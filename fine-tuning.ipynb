{
 "cells": [
  {
   "cell_type": "code",
   "execution_count": 1,
   "metadata": {},
   "outputs": [
    {
     "ename": "OSError",
     "evalue": "libnvinfer.so.8: cannot open shared object file: No such file or directory",
     "output_type": "error",
     "traceback": [
      "\u001b[0;31m---------------------------------------------------------------------------\u001b[0m",
      "\u001b[0;31mOSError\u001b[0m                                   Traceback (most recent call last)",
      "\u001b[1;32m/home/chenhao/fusion/afusion-tvm/fine-tuning.ipynb 单元格 1\u001b[0m line \u001b[0;36m5\n\u001b[1;32m      <a href='vscode-notebook-cell://ssh-remote%2B7b22686f73744e616d65223a22445455227d/home/chenhao/fusion/afusion-tvm/fine-tuning.ipynb#W0sdnNjb2RlLXJlbW90ZQ%3D%3D?line=1'>2</a>\u001b[0m \u001b[39mfrom\u001b[39;00m \u001b[39mos\u001b[39;00m \u001b[39mimport\u001b[39;00m path \u001b[39mas\u001b[39;00m osp\n\u001b[1;32m      <a href='vscode-notebook-cell://ssh-remote%2B7b22686f73744e616d65223a22445455227d/home/chenhao/fusion/afusion-tvm/fine-tuning.ipynb#W0sdnNjb2RlLXJlbW90ZQ%3D%3D?line=2'>3</a>\u001b[0m \u001b[39mimport\u001b[39;00m \u001b[39msys\u001b[39;00m\n\u001b[0;32m----> <a href='vscode-notebook-cell://ssh-remote%2B7b22686f73744e616d65223a22445455227d/home/chenhao/fusion/afusion-tvm/fine-tuning.ipynb#W0sdnNjb2RlLXJlbW90ZQ%3D%3D?line=4'>5</a>\u001b[0m \u001b[39mfrom\u001b[39;00m \u001b[39mtvm\u001b[39;00m \u001b[39mimport\u001b[39;00m relay, runtime\n\u001b[1;32m      <a href='vscode-notebook-cell://ssh-remote%2B7b22686f73744e616d65223a22445455227d/home/chenhao/fusion/afusion-tvm/fine-tuning.ipynb#W0sdnNjb2RlLXJlbW90ZQ%3D%3D?line=5'>6</a>\u001b[0m \u001b[39mfrom\u001b[39;00m \u001b[39mtvm\u001b[39;00m\u001b[39m.\u001b[39;00m\u001b[39mrelay\u001b[39;00m \u001b[39mimport\u001b[39;00m testing\n\u001b[1;32m      <a href='vscode-notebook-cell://ssh-remote%2B7b22686f73744e616d65223a22445455227d/home/chenhao/fusion/afusion-tvm/fine-tuning.ipynb#W0sdnNjb2RlLXJlbW90ZQ%3D%3D?line=6'>7</a>\u001b[0m \u001b[39mimport\u001b[39;00m \u001b[39mtvm\u001b[39;00m\n",
      "File \u001b[0;32m~/.local/lib/python3.8/site-packages/tvm-0.14.dev915+g484bd44-py3.8-linux-x86_64.egg/tvm/__init__.py:26\u001b[0m\n\u001b[1;32m     22\u001b[0m \u001b[39mimport\u001b[39;00m \u001b[39mtraceback\u001b[39;00m\n\u001b[1;32m     24\u001b[0m \u001b[39m# top-level alias\u001b[39;00m\n\u001b[1;32m     25\u001b[0m \u001b[39m# tvm._ffi\u001b[39;00m\n\u001b[0;32m---> 26\u001b[0m \u001b[39mfrom\u001b[39;00m \u001b[39m.\u001b[39;00m\u001b[39m_ffi\u001b[39;00m\u001b[39m.\u001b[39;00m\u001b[39mbase\u001b[39;00m \u001b[39mimport\u001b[39;00m TVMError, __version__, _RUNTIME_ONLY\n\u001b[1;32m     28\u001b[0m \u001b[39mfrom\u001b[39;00m \u001b[39m.\u001b[39;00m\u001b[39m_ffi\u001b[39;00m\u001b[39m.\u001b[39;00m\u001b[39mruntime_ctypes\u001b[39;00m \u001b[39mimport\u001b[39;00m DataTypeCode, DataType\n\u001b[1;32m     29\u001b[0m \u001b[39mfrom\u001b[39;00m \u001b[39m.\u001b[39;00m\u001b[39m_ffi\u001b[39;00m \u001b[39mimport\u001b[39;00m register_object, register_func, register_extension, get_global_func\n",
      "File \u001b[0;32m~/.local/lib/python3.8/site-packages/tvm-0.14.dev915+g484bd44-py3.8-linux-x86_64.egg/tvm/_ffi/__init__.py:28\u001b[0m\n\u001b[1;32m     17\u001b[0m \u001b[39m\"\"\"C interfacing code.\u001b[39;00m\n\u001b[1;32m     18\u001b[0m \n\u001b[1;32m     19\u001b[0m \u001b[39mThis namespace contains everything that interacts with C code.\u001b[39;00m\n\u001b[0;32m   (...)\u001b[0m\n\u001b[1;32m     25\u001b[0m \u001b[39mand have a ctypes fallback implementation.\u001b[39;00m\n\u001b[1;32m     26\u001b[0m \u001b[39m\"\"\"\u001b[39;00m\n\u001b[1;32m     27\u001b[0m \u001b[39mfrom\u001b[39;00m \u001b[39m.\u001b[39;00m \u001b[39mimport\u001b[39;00m _pyversion\n\u001b[0;32m---> 28\u001b[0m \u001b[39mfrom\u001b[39;00m \u001b[39m.\u001b[39;00m\u001b[39mbase\u001b[39;00m \u001b[39mimport\u001b[39;00m register_error\n\u001b[1;32m     29\u001b[0m \u001b[39mfrom\u001b[39;00m \u001b[39m.\u001b[39;00m\u001b[39mregistry\u001b[39;00m \u001b[39mimport\u001b[39;00m register_object, register_func, register_extension\n\u001b[1;32m     30\u001b[0m \u001b[39mfrom\u001b[39;00m \u001b[39m.\u001b[39;00m\u001b[39mregistry\u001b[39;00m \u001b[39mimport\u001b[39;00m _init_api, get_global_func, get_object_type_index\n",
      "File \u001b[0;32m~/.local/lib/python3.8/site-packages/tvm-0.14.dev915+g484bd44-py3.8-linux-x86_64.egg/tvm/_ffi/base.py:78\u001b[0m\n\u001b[1;32m     76\u001b[0m __version__ \u001b[39m=\u001b[39m libinfo\u001b[39m.\u001b[39m__version__\n\u001b[1;32m     77\u001b[0m \u001b[39m# library instance\u001b[39;00m\n\u001b[0;32m---> 78\u001b[0m _LIB, _LIB_NAME \u001b[39m=\u001b[39m _load_lib()\n\u001b[1;32m     80\u001b[0m \u001b[39m# Whether we are runtime only\u001b[39;00m\n\u001b[1;32m     81\u001b[0m _RUNTIME_ONLY \u001b[39m=\u001b[39m \u001b[39m\"\u001b[39m\u001b[39mruntime\u001b[39m\u001b[39m\"\u001b[39m \u001b[39min\u001b[39;00m _LIB_NAME\n",
      "File \u001b[0;32m~/.local/lib/python3.8/site-packages/tvm-0.14.dev915+g484bd44-py3.8-linux-x86_64.egg/tvm/_ffi/base.py:64\u001b[0m, in \u001b[0;36m_load_lib\u001b[0;34m()\u001b[0m\n\u001b[1;32m     62\u001b[0m     \u001b[39mfor\u001b[39;00m path \u001b[39min\u001b[39;00m libinfo\u001b[39m.\u001b[39mget_dll_directories():\n\u001b[1;32m     63\u001b[0m         os\u001b[39m.\u001b[39madd_dll_directory(path)\n\u001b[0;32m---> 64\u001b[0m lib \u001b[39m=\u001b[39m ctypes\u001b[39m.\u001b[39;49mCDLL(lib_path[\u001b[39m0\u001b[39;49m], ctypes\u001b[39m.\u001b[39;49mRTLD_GLOBAL)\n\u001b[1;32m     65\u001b[0m lib\u001b[39m.\u001b[39mTVMGetLastError\u001b[39m.\u001b[39mrestype \u001b[39m=\u001b[39m ctypes\u001b[39m.\u001b[39mc_char_p\n\u001b[1;32m     66\u001b[0m \u001b[39mreturn\u001b[39;00m lib, os\u001b[39m.\u001b[39mpath\u001b[39m.\u001b[39mbasename(lib_path[\u001b[39m0\u001b[39m])\n",
      "File \u001b[0;32m~/miniconda3/envs/fusion/lib/python3.8/ctypes/__init__.py:373\u001b[0m, in \u001b[0;36mCDLL.__init__\u001b[0;34m(self, name, mode, handle, use_errno, use_last_error, winmode)\u001b[0m\n\u001b[1;32m    370\u001b[0m \u001b[39mself\u001b[39m\u001b[39m.\u001b[39m_FuncPtr \u001b[39m=\u001b[39m _FuncPtr\n\u001b[1;32m    372\u001b[0m \u001b[39mif\u001b[39;00m handle \u001b[39mis\u001b[39;00m \u001b[39mNone\u001b[39;00m:\n\u001b[0;32m--> 373\u001b[0m     \u001b[39mself\u001b[39m\u001b[39m.\u001b[39m_handle \u001b[39m=\u001b[39m _dlopen(\u001b[39mself\u001b[39;49m\u001b[39m.\u001b[39;49m_name, mode)\n\u001b[1;32m    374\u001b[0m \u001b[39melse\u001b[39;00m:\n\u001b[1;32m    375\u001b[0m     \u001b[39mself\u001b[39m\u001b[39m.\u001b[39m_handle \u001b[39m=\u001b[39m handle\n",
      "\u001b[0;31mOSError\u001b[0m: libnvinfer.so.8: cannot open shared object file: No such file or directory"
     ]
    }
   ],
   "source": [
    "import os\n",
    "from os import path as osp\n",
    "import sys\n",
    "  \n",
    "from tvm import relay, runtime\n",
    "from tvm.relay import testing\n",
    "import tvm\n",
    "from tvm import te"
   ]
  },
  {
   "cell_type": "code",
   "execution_count": 14,
   "metadata": {},
   "outputs": [],
   "source": [
    "dshape = (1, 28, 28)\n",
    "net, params = relay.testing.mlp.get_workload(batch_size=dshape[0],num_classes=1000, dtype=\"float32\")"
   ]
  },
  {
   "cell_type": "code",
   "execution_count": 17,
   "metadata": {},
   "outputs": [],
   "source": [
    "with tvm.transform.PassContext(opt_level=3):\n",
    "    compiled_graph_lib = tvm.relay.build_module.build(net, \"cuda\", params=params)\n",
    "from tvm.contrib.debugger import debug_executor as graph_runtime\n",
    "dev = tvm.device(str(\"cuda\"), 0)\n",
    "## building runtime\n",
    "debug_g_mod = graph_runtime.GraphModuleDebug(\n",
    "    compiled_graph_lib[\"debug_create\"](\"default\", dev),\n",
    "    [dev],\n",
    "    compiled_graph_lib.get_graph_json(),\n",
    "    \".\"\n",
    ")"
   ]
  },
  {
   "cell_type": "code",
   "execution_count": 23,
   "metadata": {},
   "outputs": [
    {
     "name": "stdout",
     "output_type": "stream",
     "text": [
      "Execution time summary:\n",
      " mean (ms)   median (ms)    max (ms)     min (ms)     std (ms)  \n",
      "   0.0249       0.0249       0.0262       0.0239       0.0008                  \n"
     ]
    },
    {
     "name": "stderr",
     "output_type": "stream",
     "text": [
      "[07:42:02] /root/wang/tvm/src/runtime/graph_executor/debug/graph_executor_debug.cc:65: Op #0 reshape_nop:\n",
      "[07:42:02] /root/wang/tvm/src/runtime/graph_executor/debug/graph_executor_debug.cc:68: Iteration: 0: 6.58997 us/iter\n",
      "[07:42:02] /root/wang/tvm/src/runtime/graph_executor/debug/graph_executor_debug.cc:68: Iteration: 1: 6.60019 us/iter\n",
      "[07:42:02] /root/wang/tvm/src/runtime/graph_executor/debug/graph_executor_debug.cc:68: Iteration: 2: 6.59817 us/iter\n",
      "[07:42:07] /root/wang/tvm/src/runtime/graph_executor/debug/graph_executor_debug.cc:65: Op #1 tvmgen_default_fused_nn_dense_add_nn_relu:\n",
      "[07:42:07] /root/wang/tvm/src/runtime/graph_executor/debug/graph_executor_debug.cc:68: Iteration: 0: 10.4939 us/iter\n",
      "[07:42:07] /root/wang/tvm/src/runtime/graph_executor/debug/graph_executor_debug.cc:68: Iteration: 1: 10.5464 us/iter\n",
      "[07:42:07] /root/wang/tvm/src/runtime/graph_executor/debug/graph_executor_debug.cc:68: Iteration: 2: 10.5339 us/iter\n",
      "[07:42:12] /root/wang/tvm/src/runtime/graph_executor/debug/graph_executor_debug.cc:65: Op #2 tvmgen_default_fused_nn_dense_add_nn_relu_1:\n",
      "[07:42:12] /root/wang/tvm/src/runtime/graph_executor/debug/graph_executor_debug.cc:68: Iteration: 0: 10.4814 us/iter\n",
      "[07:42:12] /root/wang/tvm/src/runtime/graph_executor/debug/graph_executor_debug.cc:68: Iteration: 1: 10.5007 us/iter\n",
      "[07:42:12] /root/wang/tvm/src/runtime/graph_executor/debug/graph_executor_debug.cc:68: Iteration: 2: 10.496 us/iter\n",
      "[07:42:18] /root/wang/tvm/src/runtime/graph_executor/debug/graph_executor_debug.cc:65: Op #3 tvmgen_default_fused_nn_dense_add:\n",
      "[07:42:18] /root/wang/tvm/src/runtime/graph_executor/debug/graph_executor_debug.cc:68: Iteration: 0: 10.5601 us/iter\n",
      "[07:42:18] /root/wang/tvm/src/runtime/graph_executor/debug/graph_executor_debug.cc:68: Iteration: 1: 10.5433 us/iter\n",
      "[07:42:18] /root/wang/tvm/src/runtime/graph_executor/debug/graph_executor_debug.cc:68: Iteration: 2: 10.5686 us/iter\n"
     ]
    },
    {
     "name": "stdout",
     "output_type": "stream",
     "text": [
      "param : [0.0, 0.0, 0.0]\n",
      "__nop : [6.5899669923171775e-06, 6.600192169541711e-06, 6.5981694839765936e-06]\n",
      "param : [0.0, 0.0, 0.0]\n",
      "param : [0.0, 0.0, 0.0]\n",
      "tvmgen_default_fused_nn_dense_add_nn_relu : [1.0493895028803072e-05, 1.0546376382216401e-05, 1.053394240121245e-05]\n",
      "param : [0.0, 0.0, 0.0]\n",
      "param : [0.0, 0.0, 0.0]\n",
      "tvmgen_default_fused_nn_dense_add_nn_relu_1 : [1.0481420089289032e-05, 1.0500668382620581e-05, 1.0496030181475126e-05]\n",
      "param : [0.0, 0.0, 0.0]\n",
      "param : [0.0, 0.0, 0.0]\n",
      "tvmgen_default_fused_nn_dense_add : [1.0560148774250742e-05, 1.0543311405093934e-05, 1.0568597013195131e-05]\n",
      "tvmgen_default_fused_nn_softmax : [1.0456835184123057e-05, 1.0474456607215662e-05, 1.0496131204522056e-05]\n"
     ]
    },
    {
     "name": "stderr",
     "output_type": "stream",
     "text": [
      "[07:42:23] /root/wang/tvm/src/runtime/graph_executor/debug/graph_executor_debug.cc:65: Op #4 tvmgen_default_fused_nn_softmax:\n",
      "[07:42:23] /root/wang/tvm/src/runtime/graph_executor/debug/graph_executor_debug.cc:68: Iteration: 0: 10.4568 us/iter\n",
      "[07:42:23] /root/wang/tvm/src/runtime/graph_executor/debug/graph_executor_debug.cc:68: Iteration: 1: 10.4745 us/iter\n",
      "[07:42:23] /root/wang/tvm/src/runtime/graph_executor/debug/graph_executor_debug.cc:68: Iteration: 2: 10.4961 us/iter\n"
     ]
    }
   ],
   "source": [
    "print(debug_g_mod.benchmark(dev))\n",
    "times = debug_g_mod.run_individual(10, 3, 1000)\n",
    "for idx, node in enumerate(debug_g_mod.debug_datum._nodes_list):\n",
    "    print(f\"{node['op']} : {times[idx]}\")"
   ]
  },
  {
   "cell_type": "code",
   "execution_count": 26,
   "metadata": {},
   "outputs": [
    {
     "name": "stdout",
     "output_type": "stream",
     "text": [
      "Execution time summary:\n",
      " mean (ms)   median (ms)    max (ms)     min (ms)     std (ms)  \n",
      "   0.0167       0.0167       0.0170       0.0164       0.0002                  \n"
     ]
    },
    {
     "name": "stderr",
     "output_type": "stream",
     "text": [
      "[07:54:47] /root/wang/tvm/src/runtime/graph_executor/debug/graph_executor_debug.cc:65: Op #0 reshape_nop:\n",
      "[07:54:47] /root/wang/tvm/src/runtime/graph_executor/debug/graph_executor_debug.cc:68: Iteration: 0: 6.53562 us/iter\n",
      "[07:54:47] /root/wang/tvm/src/runtime/graph_executor/debug/graph_executor_debug.cc:68: Iteration: 1: 6.5358 us/iter\n",
      "[07:54:47] /root/wang/tvm/src/runtime/graph_executor/debug/graph_executor_debug.cc:68: Iteration: 2: 6.53944 us/iter\n",
      "[07:54:52] /root/wang/tvm/src/runtime/graph_executor/debug/graph_executor_debug.cc:65: Op #1 tvmgen_default_fused_nn_dense_add_nn_relu:\n",
      "[07:54:52] /root/wang/tvm/src/runtime/graph_executor/debug/graph_executor_debug.cc:68: Iteration: 0: 10.4723 us/iter\n",
      "[07:54:52] /root/wang/tvm/src/runtime/graph_executor/debug/graph_executor_debug.cc:68: Iteration: 1: 10.4692 us/iter\n",
      "[07:54:52] /root/wang/tvm/src/runtime/graph_executor/debug/graph_executor_debug.cc:68: Iteration: 2: 10.4641 us/iter\n",
      "[07:54:58] /root/wang/tvm/src/runtime/graph_executor/debug/graph_executor_debug.cc:65: Op #2 tvmgen_default_fused_nn_dense_add_nn_relu_1:\n",
      "[07:54:58] /root/wang/tvm/src/runtime/graph_executor/debug/graph_executor_debug.cc:68: Iteration: 0: 10.466 us/iter\n",
      "[07:54:58] /root/wang/tvm/src/runtime/graph_executor/debug/graph_executor_debug.cc:68: Iteration: 1: 10.4566 us/iter\n",
      "[07:54:58] /root/wang/tvm/src/runtime/graph_executor/debug/graph_executor_debug.cc:68: Iteration: 2: 10.468 us/iter\n",
      "[07:55:03] /root/wang/tvm/src/runtime/graph_executor/debug/graph_executor_debug.cc:65: Op #3 tvmgen_default_fused_nn_dense_add:\n",
      "[07:55:03] /root/wang/tvm/src/runtime/graph_executor/debug/graph_executor_debug.cc:68: Iteration: 0: 10.4763 us/iter\n",
      "[07:55:03] /root/wang/tvm/src/runtime/graph_executor/debug/graph_executor_debug.cc:68: Iteration: 1: 10.4734 us/iter\n",
      "[07:55:03] /root/wang/tvm/src/runtime/graph_executor/debug/graph_executor_debug.cc:68: Iteration: 2: 10.4736 us/iter\n"
     ]
    },
    {
     "name": "stdout",
     "output_type": "stream",
     "text": [
      "param : [0.0, 0.0, 0.0]\n",
      "__nop : [6.535616651231553e-06, 6.53580333823292e-06, 6.539438057044784e-06]\n",
      "param : [0.0, 0.0, 0.0]\n",
      "param : [0.0, 0.0, 0.0]\n",
      "tvmgen_default_fused_nn_dense_add_nn_relu : [1.0472294958008309e-05, 1.0469202060731043e-05, 1.0464139969813802e-05]\n",
      "param : [0.0, 0.0, 0.0]\n",
      "param : [0.0, 0.0, 0.0]\n",
      "tvmgen_default_fused_nn_dense_add_nn_relu_1 : [1.0465960616506995e-05, 1.0456592616346655e-05, 1.0468039410216325e-05]\n",
      "param : [0.0, 0.0, 0.0]\n",
      "param : [0.0, 0.0, 0.0]\n",
      "tvmgen_default_fused_nn_dense_add : [1.047626663325679e-05, 1.047342061289671e-05, 1.0473626966258518e-05]\n",
      "tvmgen_default_fused_nn_softmax : [1.0446207952913207e-05, 1.0413013430963034e-05, 1.0427781216463869e-05]\n"
     ]
    },
    {
     "name": "stderr",
     "output_type": "stream",
     "text": [
      "[07:55:07] /root/wang/tvm/src/runtime/graph_executor/debug/graph_executor_debug.cc:65: Op #4 tvmgen_default_fused_nn_softmax:\n",
      "[07:55:07] /root/wang/tvm/src/runtime/graph_executor/debug/graph_executor_debug.cc:68: Iteration: 0: 10.4462 us/iter\n",
      "[07:55:07] /root/wang/tvm/src/runtime/graph_executor/debug/graph_executor_debug.cc:68: Iteration: 1: 10.413 us/iter\n",
      "[07:55:07] /root/wang/tvm/src/runtime/graph_executor/debug/graph_executor_debug.cc:68: Iteration: 2: 10.4278 us/iter\n"
     ]
    }
   ],
   "source": [
    "loops = []\n",
    "\n",
    "def find_width8(op):\n",
    "    \"\"\"Find all the 'tir.For' nodes whose extent can be divided by 8.\"\"\"\n",
    "    if isinstance(op, tvm.tir.For):\n",
    "        if isinstance(op.extent, tvm.tir.IntImm):\n",
    "            if op.extent.value % 8 == 0:\n",
    "                loops.append(op)\n",
    "\n",
    "\n",
    "def vectorize8(op):\n",
    "    \"\"\"Split can vectorize the loops found in `find_width8`.\"\"\"\n",
    "    if op in loops:\n",
    "        extent = op.extent.value\n",
    "        name = op.loop_var.name\n",
    "        lo, li = te.var(name + \".outer\"), te.var(name + \".inner\")\n",
    "        body = tvm.tir.stmt_functor.substitute(op.body, {op.loop_var: lo * 8 + li})\n",
    "        body = tvm.tir.For(li, 0, 8, tvm.tir.ForKind.VECTORIZED, body)\n",
    "        body = tvm.tir.For(lo, 0, extent // 8, tvm.tir.ForKind.SERIAL, body)\n",
    "        return body\n",
    "    return None\n",
    "\n",
    "\n",
    "@tvm.tir.transform.prim_func_pass(opt_level=0)\n",
    "def vectorize(f, mod, ctx):\n",
    "    global loops\n",
    "\n",
    "    tvm.tir.stmt_functor.post_order_visit(f.body, find_width8)\n",
    "\n",
    "    if not loops:\n",
    "        return f\n",
    "\n",
    "    # The last list arugment indicates what kinds of nodes will be transformed.\n",
    "    # Thus, in this case only `For` nodes will call `vectorize8`\n",
    "    return f.with_body(tvm.tir.stmt_functor.ir_transform(f.body, None, vectorize8, [\"tir.For\"]))\n",
    "\n",
    "with tvm.transform.PassContext( opt_level=3, config={\"tir.add_lower_pass\": [(2, vectorize)]}):\n",
    "    lib = relay.build_module.build(net, target=\"cuda\", target_host=\"llvm\",params=params)\n",
    "\n",
    "dev = tvm.device(str(\"cuda\"), 0)\n",
    "## building runtime\n",
    "debug_g_mod = graph_runtime.GraphModuleDebug(\n",
    "    compiled_graph_lib[\"debug_create\"](\"default\", dev),\n",
    "    [dev],\n",
    "    compiled_graph_lib.get_graph_json(),\n",
    "    \".\"\n",
    ")\n",
    "print(debug_g_mod.benchmark(dev))\n",
    "times = debug_g_mod.run_individual(10, 3, 1000)\n",
    "for idx, node in enumerate(debug_g_mod.debug_datum._nodes_list):\n",
    "    print(f\"{node['op']} : {times[idx]}\")"
   ]
  },
  {
   "cell_type": "code",
   "execution_count": 29,
   "metadata": {},
   "outputs": [
    {
     "name": "stderr",
     "output_type": "stream",
     "text": [
      "dense is not optimized for this platform.\n",
      "dense is not optimized for this platform.\n"
     ]
    },
    {
     "name": "stderr",
     "output_type": "stream",
     "text": [
      "dense is not optimized for this platform.\n"
     ]
    }
   ],
   "source": [
    "lower_to_te = tvm._ffi.get_global_func(\"relay.backend.LowerToTE\")\n",
    "cached_func = lower_to_te(net[\"main\"])"
   ]
  },
  {
   "cell_type": "code",
   "execution_count": 31,
   "metadata": {},
   "outputs": [],
   "source": [
    "def _get_tensors(te_cached_func):\n",
    "    return list(te_cached_func.inputs) + list(te_cached_func.outputs)\n",
    "\n",
    "x = _get_tensors(cached_func)"
   ]
  },
  {
   "cell_type": "code",
   "execution_count": 32,
   "metadata": {},
   "outputs": [
    {
     "data": {
      "text/plain": [
       "[Tensor(shape=[1, 1, 28, 28], op.name=data),\n",
       " Tensor(shape=[128, 784], op.name=fc1_weight),\n",
       " Tensor(shape=[128], op.name=fc1_bias),\n",
       " Tensor(shape=[64, 128], op.name=fc2_weight),\n",
       " Tensor(shape=[64], op.name=fc2_bias),\n",
       " Tensor(shape=[1000, 64], op.name=fc3_weight),\n",
       " Tensor(shape=[1000], op.name=fc3_bias),\n",
       " Tensor(shape=[1, 1000], op.name=T_softmax_norm)]"
      ]
     },
     "execution_count": 32,
     "metadata": {},
     "output_type": "execute_result"
    }
   ],
   "source": [
    "x"
   ]
  },
  {
   "cell_type": "code",
   "execution_count": 42,
   "metadata": {},
   "outputs": [],
   "source": [
    "sch = te.create_schedule([cached_func.outputs[0].op])"
   ]
  },
  {
   "cell_type": "code",
   "execution_count": 55,
   "metadata": {},
   "outputs": [],
   "source": [
    "sch = sch.normalize()"
   ]
  },
  {
   "cell_type": "code",
   "execution_count": 56,
   "metadata": {},
   "outputs": [
    {
     "data": {
      "text/plain": [
       "schedule(0x5642f4bdee10)"
      ]
     },
     "execution_count": 56,
     "metadata": {},
     "output_type": "execute_result"
    }
   ],
   "source": []
  },
  {
   "cell_type": "code",
   "execution_count": null,
   "metadata": {},
   "outputs": [],
   "source": []
  }
 ],
 "metadata": {
  "kernelspec": {
   "display_name": "fusion",
   "language": "python",
   "name": "python3"
  },
  "language_info": {
   "codemirror_mode": {
    "name": "ipython",
    "version": 3
   },
   "file_extension": ".py",
   "mimetype": "text/x-python",
   "name": "python",
   "nbconvert_exporter": "python",
   "pygments_lexer": "ipython3",
   "version": "3.8.18"
  },
  "orig_nbformat": 4
 },
 "nbformat": 4,
 "nbformat_minor": 2
}
